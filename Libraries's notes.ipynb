{
 "cells": [
  {
   "cell_type": "code",
   "execution_count": null,
   "metadata": {},
   "outputs": [],
   "source": [
    "import numpy as np\n",
    "import pandas as pd\n"
   ]
  },
  {
   "cell_type": "code",
   "execution_count": null,
   "metadata": {},
   "outputs": [],
   "source": [
    "import numpy as np\n",
    "'''\n",
    "Numpy library (Thư viện numpy):\n",
    "\n",
    "*  Numpy (viết tắt của Nummerical Python) là một thư viện không thể thiếu khi chúng ta xây dựng các ứng dụng Máy học trên Python.\n",
    "*  Numpy cung cấp các đối tượng và phương thức để làm việc với mảng nhiều chiều và các phép toán đại số tuyến tính. \n",
    "*  Trong numpy, chiều của mảng gọi là axes; trong khi số chiều gọi là rank.\n",
    "*  Thư viện chính trong numpy là các đối tượng mảng (array). Mảng (array) tương tự như list ở Python với điều kiện là mọi phần tử \n",
    "trong array phải có cùng kiểu dữ liệu. Array có thể thao tác với số lượng lớn dữ liệu số, thường là float hay int, và hiệu quả \n",
    "hơn trên danh sách rất nhiều.  Lớp thường dùng trong numpy là ndarray (n-dimentional array).\n",
    "'''\n",
    "'''\n",
    "NumPy is the fundamental package for scientific computing with Python. It contains among other things:\n",
    "\n",
    "*  a powerful N-dimensional array object\n",
    "*  sophisticated (broadcasting) functions\n",
    "*  tools for integrating C/C++ and Fortran code\n",
    "*  useful linear algebra, Fourier transform, and random number capabilities\n",
    "'''\n",
    "import pandas as pd\n",
    "'''\n",
    "*  Pandas cung cấp nhiều đối tượng và phương thức cho các cấu trúc dữ liệu. Pandas là thư viện không thể thiếu cho chúng ta trong suốt quá trình xử lý dữ liệu (data munging): từ chuyển đổi hay ánh xạ dữ liệu thô sang dạng dữ liệu mà chúng ta mong muốn, nhằm có thể phân tích dễ dàng hơn.\n",
    "*  Series và DataFrame; cả hai cấu trúc này được xây trên thư viện Numpy.\n",
    "*  Series: Là một đối tượng tương tự như mảng một chiều, hay như một cột của một bảng. Mặc định, mỗi phần tử trong item sẽ được gán chỉ số (index) từ 0 tới N-1, trong đó N là số phần tử của series.\n",
    "*  DataFrame: Là một cấu trúc dữ liệu dạng bảng, gồm hàng (index – chỉ số) và cột (name - tên). Chúng ta có thể coi DataFrame là một nhóm các đối tượng Series cùng với các index.\n",
    "'''\n",
    "\n",
    "'''\n",
    "pandas is a NumFOCUS sponsored project. This will help ensure the success of development of pandas as a world-class open-source project, and makes it possible to donate to the project.\n",
    "\n",
    "'''\n",
    "\n",
    "import matplotlib.pyplot as plt\n",
    "'''\n",
    "Matplotlib:\n",
    "Đây là một thư viện khá là mạnh mẽ trong việc tạo biểu đồ với Python.\n",
    "'''"
   ]
  },
  {
   "cell_type": "code",
   "execution_count": null,
   "metadata": {},
   "outputs": [],
   "source": []
  }
 ],
 "metadata": {
  "kernelspec": {
   "display_name": "Python 3",
   "language": "python",
   "name": "python3"
  },
  "language_info": {
   "codemirror_mode": {
    "name": "ipython",
    "version": 3
   },
   "file_extension": ".py",
   "mimetype": "text/x-python",
   "name": "python",
   "nbconvert_exporter": "python",
   "pygments_lexer": "ipython3",
   "version": "3.6.5"
  }
 },
 "nbformat": 4,
 "nbformat_minor": 2
}
